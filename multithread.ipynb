{
 "cells": [
  {
   "cell_type": "markdown",
   "metadata": {},
   "source": [
    "# Multithreading"
   ]
  },
  {
   "cell_type": "code",
   "execution_count": null,
   "metadata": {},
   "outputs": [],
   "source": [
    "\n",
    "import threading\n",
    "import os\n",
    "import queue\n",
    "from tqdm import tqdm\n",
    "from functools import partial\n",
    "from pytube import YouTube\n",
    "import time\n",
    "from threading import Lock\n",
    "import concurrent.futures\n"
   ]
  },
  {
   "cell_type": "markdown",
   "metadata": {},
   "source": [
    "### Parallelism Concept"
   ]
  },
  {
   "cell_type": "markdown",
   "metadata": {},
   "source": [
    "- Sequential vs Parallel"
   ]
  },
  {
   "cell_type": "code",
   "execution_count": null,
   "metadata": {},
   "outputs": [],
   "source": [
    "def func1():\n",
    "    # Count 1~5\n",
    "    for i in range(1,6,1):\n",
    "        print(f\"Number: #{i}\")\n",
    "        time.sleep(0.1)\n",
    "\n",
    "def func2():\n",
    "    # Count a~e\n",
    "    for i in range(ord(\"a\"), ord(\"f\")):\n",
    "        print(f\"Alphabet: {chr(i)}\")\n",
    "        time.sleep(0.1)\n",
    "\n",
    "print(\"-\"*10+\"Sequential execution\"+\"-\"*10)\n",
    "seq = time.time()\n",
    "func1()\n",
    "func2()\n",
    "print(\"execution time :\", time.time() - seq)\n",
    "\n",
    "\n",
    "print(\"-\"*10+\"Parallel execution\"+\"-\"*10)\n",
    "par = time.time()\n",
    "thread1 = threading.Thread(target=func1)\n",
    "thread2 = threading.Thread(target=func2)\n",
    "thread1.start()\n",
    "thread2.start()\n",
    "thread1.join()\n",
    "thread2.join()\n",
    "print(\"execution time :\", time.time() - par)"
   ]
  },
  {
   "cell_type": "markdown",
   "metadata": {},
   "source": [
    "- Accessing shared area"
   ]
  },
  {
   "cell_type": "code",
   "execution_count": null,
   "metadata": {},
   "outputs": [],
   "source": [
    "import multiprocessing\n",
    "\n",
    "def func1(lst):\n",
    "    lst.append(1)\n",
    "\n",
    "def func2(lst):\n",
    "    lst.append(2)\n",
    "\n",
    "# Different threads are able to access on list address\n",
    "print(\"-\"*10+\"Multi-threading\"+\"-\"*10)\n",
    "list1 = []\n",
    "thread1 = threading.Thread(target=func1, args=(list1,))\n",
    "thread2 = threading.Thread(target=func2, args=(list1,))\n",
    "thread1.start()\n",
    "thread2.start()\n",
    "thread1.join()\n",
    "thread2.join()\n",
    "print(f\"Multi-threading result:{list1}\")\n",
    "\n",
    "# Different processes can't.\n",
    "print(\"-\"*10+\"Multi-processing\"+\"-\"*10)\n",
    "list2 = []\n",
    "process1 = multiprocessing.Process(target=func1, args=(list2,))\n",
    "process2 = multiprocessing.Process(target=func2, args=(list2,))\n",
    "process1.start()\n",
    "process2.start()\n",
    "process1.join()\n",
    "process2.join()\n",
    "print(f\"Multi-processing result:{list2}\")"
   ]
  },
  {
   "cell_type": "markdown",
   "metadata": {},
   "source": [
    "### Synchronization problem\n",
    "To test synchronization problem, run following 2 cells repeatedly.\n",
    "> Expected result: 500000\n",
    "\n",
    "* Using unsafe variable: would show irregular result\n",
    "* Using thread-safe variable: would show expected result"
   ]
  },
  {
   "cell_type": "code",
   "execution_count": null,
   "metadata": {},
   "outputs": [],
   "source": [
    "shared_variable = 0\n",
    "\n",
    "def increment_shared_variable():\n",
    "    global shared_variable\n",
    "    for _ in range(100000):\n",
    "        shared_variable += 1\n",
    "\n",
    "print(\"-\"*10+\"Using unsafe variable\"+\"-\"*10)\n",
    "\n",
    "threads = []\n",
    "for _ in range(5):\n",
    "    t = threading.Thread(target=increment_shared_variable)\n",
    "    threads.append(t)\n",
    "\n",
    "for t in threads:\n",
    "    t.start()\n",
    "\n",
    "for t in threads:\n",
    "    t.join()\n",
    "\n",
    "print(\"Final result:\", shared_variable)"
   ]
  },
  {
   "cell_type": "code",
   "execution_count": null,
   "metadata": {},
   "outputs": [],
   "source": [
    "shared_variable = 0\n",
    "\n",
    "# Thread-safe\n",
    "lock = threading.Lock()\n",
    "\n",
    "def increment_shared_variable():\n",
    "    global shared_variable\n",
    "    for _ in range(100000):\n",
    "        # Mutex lock\n",
    "        lock.acquire()\n",
    "        shared_variable += 1\n",
    "        # Mutex release\n",
    "        lock.release()\n",
    "\n",
    "print(\"-\"*10+\"Using thread-safe variable\"+\"-\"*10)\n",
    "\n",
    "threads = []\n",
    "for _ in range(5):\n",
    "    t = threading.Thread(target=increment_shared_variable)\n",
    "    threads.append(t)\n",
    "\n",
    "for t in threads:\n",
    "    t.start()\n",
    "\n",
    "for t in threads:\n",
    "    t.join()\n",
    "\n",
    "print(\"Final result:\", shared_variable)"
   ]
  },
  {
   "cell_type": "markdown",
   "metadata": {},
   "source": [
    "### ThreadPool"
   ]
  },
  {
   "cell_type": "code",
   "execution_count": null,
   "metadata": {},
   "outputs": [],
   "source": [
    "shared_variable = 0\n",
    "lock = threading.Lock()\n",
    "\n",
    "def increment_shared_variable():\n",
    "    global shared_variable\n",
    "    for _ in range(100000):\n",
    "        lock.acquire()\n",
    "        shared_variable += 1\n",
    "        lock.release()\n",
    "\n",
    "print(\"-\" * 10 + \"Using ThreadPool\" + \"-\" * 10)\n",
    "\n",
    "with concurrent.futures.ThreadPoolExecutor(max_workers=5) as executor:\n",
    "    futures = [executor.submit(increment_shared_variable) for _ in range(5)]\n",
    "\n",
    "# Wait for all threads to finish\n",
    "concurrent.futures.wait(futures)\n",
    "\n",
    "print(\"Final result:\", shared_variable)\n"
   ]
  },
  {
   "cell_type": "markdown",
   "metadata": {},
   "source": [
    "### `pytube` `tqdm` example - using variable typed Queue"
   ]
  },
  {
   "cell_type": "markdown",
   "metadata": {},
   "source": [
    "- UI function"
   ]
  },
  {
   "cell_type": "code",
   "execution_count": null,
   "metadata": {},
   "outputs": [],
   "source": [
    "def draw_ui(var):\n",
    "    print(\"UI thread starting ... PID:{}\".format(os.getpid()))\n",
    "    prev = 0\n",
    "    tqdm_bar = None\n",
    "    while True:\n",
    "        message = var.get()\n",
    "        if message[\"type\"] == \"on_progress\":\n",
    "            if tqdm_bar is None:\n",
    "                tqdm_bar = tqdm(total=100, desc=\"Downloading...\")\n",
    "            cur_rate = message[\"progress_rate\"]\n",
    "            tqdm_bar.update(int(cur_rate-prev))\n",
    "            prev = int(cur_rate)\n",
    "        elif message[\"type\"] == \"on_complete\":\n",
    "            if tqdm_bar is None:\n",
    "                tqdm_bar = tqdm(total=100, desc=\"Downloading...\")\n",
    "            tqdm_bar.update(100-prev)\n",
    "            tqdm_bar.close()\n",
    "            break"
   ]
  },
  {
   "cell_type": "markdown",
   "metadata": {},
   "source": [
    "- Downloading function"
   ]
  },
  {
   "cell_type": "code",
   "execution_count": null,
   "metadata": {},
   "outputs": [],
   "source": [
    "def on_progress(stream, chunk, bytes_remaining, var):\n",
    "    total_size = stream.filesize\n",
    "    bytes_downloaded = total_size - bytes_remaining\n",
    "    progress = (bytes_downloaded / total_size) * 100\n",
    "    var.put({\"type\":\"on_progress\", \"progress_rate\":progress})\n",
    "\n",
    "def on_complete(stream, file_handle, var):\n",
    "    var.put({\"type\":\"on_complete\"})\n",
    "\n",
    "def download(url, var):\n",
    "    print(\"Download thread starting ... PID:{}\".format(os.getpid()))\n",
    "    on_progress_with_Q = partial(on_progress, var=var)\n",
    "    on_complete_with_Q = partial(on_complete, var=var)\n",
    "    youtube_clip = YouTube(\n",
    "                        url,\n",
    "                        on_progress_callback=on_progress_with_Q,\n",
    "                        on_complete_callback=on_complete_with_Q)\n",
    "    youtube_stream = youtube_clip.streams.filter(\n",
    "                        adaptive=True, \n",
    "                        file_extension='mp4').first()\n",
    "    youtube_stream.download(\"multithreading\")"
   ]
  },
  {
   "cell_type": "markdown",
   "metadata": {},
   "source": [
    "- Multithreading"
   ]
  },
  {
   "cell_type": "code",
   "execution_count": null,
   "metadata": {},
   "outputs": [],
   "source": [
    "# Charlie Puth - One Call Away [Official Video]\n",
    "url = \"https://www.youtube.com/watch?v=BxuY9FET9Y4\"\n",
    "\n",
    "print(\"main process running ... PID:{}\".format(os.getpid()))\n",
    "\n",
    "shared_var = queue.Queue()\n",
    "\n",
    "thread1 = threading.Thread(target=draw_ui, args=(shared_var,))\n",
    "thread2 = threading.Thread(target=download, args=(url, shared_var,))\n",
    "\n",
    "thread1.start()\n",
    "thread2.start()\n",
    "\n",
    "thread1.join()\n",
    "shared_var.put(None)\n",
    "thread2.join()"
   ]
  },
  {
   "cell_type": "markdown",
   "metadata": {},
   "source": [
    "### `pytube` `tqdm` example - using variable typed thread-safe list"
   ]
  },
  {
   "cell_type": "code",
   "execution_count": null,
   "metadata": {},
   "outputs": [],
   "source": [
    "class ThreadSafeList:\n",
    "    def __init__(self):\n",
    "        self._list = []\n",
    "        self._lock = threading.Lock()\n",
    "\n",
    "    def append(self, item):\n",
    "        with self._lock:\n",
    "            self._list.append(item)\n",
    "\n",
    "    def pop(self, index=-1):\n",
    "        with self._lock:\n",
    "            return self._list.pop(index)\n",
    "\n",
    "    def __len__(self):\n",
    "        with self._lock:\n",
    "            return len(self._list)"
   ]
  },
  {
   "cell_type": "markdown",
   "metadata": {},
   "source": [
    "- UI function"
   ]
  },
  {
   "cell_type": "code",
   "execution_count": null,
   "metadata": {},
   "outputs": [],
   "source": [
    "def draw_ui(shared_queue):\n",
    "    print(\"UI thread starting ... PID:{}\".format(os.getpid()), flush=True)\n",
    "    prev = 0\n",
    "    tqdm_bar = None\n",
    "    while True:\n",
    "        if len(shared_queue)>0:\n",
    "            message = shared_queue.pop()\n",
    "            if message[\"type\"] == \"on_progress\":\n",
    "                if tqdm_bar is None:\n",
    "                    tqdm_bar = tqdm(total=100, desc=\"Downloading...\")\n",
    "                cur_rate = message[\"progress_rate\"]\n",
    "                tqdm_bar.update(int(cur_rate-prev))\n",
    "                prev = int(cur_rate)\n",
    "            elif message[\"type\"] == \"on_complete\":\n",
    "                if tqdm_bar is None:\n",
    "                    tqdm_bar = tqdm(total=100, desc=\"Downloading...\")\n",
    "                tqdm_bar.update(100-prev)\n",
    "                tqdm_bar.close()\n",
    "                break"
   ]
  },
  {
   "cell_type": "markdown",
   "metadata": {},
   "source": [
    "- Downloading function"
   ]
  },
  {
   "cell_type": "code",
   "execution_count": null,
   "metadata": {},
   "outputs": [],
   "source": [
    "def on_progress(stream, chunk, bytes_remaining, shared_queue):\n",
    "    total_size = stream.filesize\n",
    "    bytes_downloaded = total_size - bytes_remaining\n",
    "    progress = (bytes_downloaded / total_size) * 100\n",
    "    shared_queue.append({\"type\":\"on_progress\", \"progress_rate\":progress})\n",
    "\n",
    "def on_complete(stream, file_handle, shared_queue):\n",
    "    shared_queue.append({\"type\":\"on_complete\"})\n",
    "\n",
    "def download(url, shared_queue):\n",
    "    print(\"Download thread starting ... PID:{}\".format(os.getpid()), flush=True)\n",
    "    on_progress_with_Q = partial(on_progress, shared_queue=shared_queue)\n",
    "    on_complete_with_Q = partial(on_complete, shared_queue=shared_queue)\n",
    "    youtube_clip = YouTube(\n",
    "                        url,\n",
    "                        on_progress_callback=on_progress_with_Q,\n",
    "                        on_complete_callback=on_complete_with_Q)\n",
    "    youtube_stream = youtube_clip.streams.filter(\n",
    "                        adaptive=True, \n",
    "                        file_extension='mp4').first()\n",
    "    youtube_stream.download(\"multithreading\")"
   ]
  },
  {
   "cell_type": "markdown",
   "metadata": {},
   "source": [
    "- Multithreading"
   ]
  },
  {
   "cell_type": "code",
   "execution_count": null,
   "metadata": {},
   "outputs": [],
   "source": [
    "# Charlie Puth - One Call Away [Official Video]\n",
    "url = \"https://www.youtube.com/watch?v=BxuY9FET9Y4\"\n",
    "\n",
    "print(\"main process running ... PID:{}\".format(os.getpid()), flush=True)\n",
    "\n",
    "shared_queue = ThreadSafeList()\n",
    "\n",
    "thread1 = threading.Thread(target=draw_ui, args=(shared_queue,))\n",
    "thread2 = threading.Thread(target=download, args=(url, shared_queue,))\n",
    "\n",
    "thread1.start()\n",
    "thread2.start()\n",
    "\n",
    "thread1.join()\n",
    "thread2.join()\n",
    "shared_queue = None"
   ]
  },
  {
   "cell_type": "code",
   "execution_count": null,
   "metadata": {},
   "outputs": [],
   "source": []
  }
 ],
 "metadata": {
  "kernelspec": {
   "display_name": "parallelism",
   "language": "python",
   "name": "parallelism"
  },
  "language_info": {
   "codemirror_mode": {
    "name": "ipython",
    "version": 3
   },
   "file_extension": ".py",
   "mimetype": "text/x-python",
   "name": "python",
   "nbconvert_exporter": "python",
   "pygments_lexer": "ipython3",
   "version": "3.8.0"
  },
  "orig_nbformat": 4
 },
 "nbformat": 4,
 "nbformat_minor": 2
}
