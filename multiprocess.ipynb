{
 "cells": [
  {
   "cell_type": "markdown",
   "metadata": {},
   "source": [
    "# Multiprocessing\n",
    "\n",
    "Reference: https://docs.python.org/3/library/multiprocessing.html#multiprocessing-programming"
   ]
  },
  {
   "cell_type": "code",
   "execution_count": null,
   "metadata": {},
   "outputs": [],
   "source": [
    "import multiprocessing\n",
    "from tqdm import tqdm\n",
    "from functools import partial\n",
    "import os\n",
    "from pytube import YouTube\n",
    "import psutil\n",
    "import time\n",
    "import subprocess"
   ]
  },
  {
   "cell_type": "markdown",
   "metadata": {},
   "source": [
    "### Parallelism Concept"
   ]
  },
  {
   "cell_type": "code",
   "execution_count": null,
   "metadata": {},
   "outputs": [],
   "source": [
    "def func1():\n",
    "    # Count 1~5\n",
    "    for i in range(1,6,1):\n",
    "        print(f\"Number: #{i}\")\n",
    "        time.sleep(0.1)\n",
    "\n",
    "def func2():\n",
    "    # Count a~e\n",
    "    for i in range(ord(\"a\"), ord(\"f\")):\n",
    "        print(f\"Alphabet: {chr(i)}\")\n",
    "        time.sleep(0.1)\n",
    "\n",
    "print(\"-\"*10+\"Sequential execution\"+\"-\"*10)\n",
    "seq = time.time()\n",
    "func1()\n",
    "func2()\n",
    "print(\"execution time :\", time.time() - seq)\n",
    "\n",
    "\n",
    "print(\"-\"*10+\"Parallel execution\"+\"-\"*10)\n",
    "par = time.time()\n",
    "process1 = multiprocessing.Process(target=func1)\n",
    "process2 = multiprocessing.Process(target=func2)\n",
    "process1.start()\n",
    "process2.start()\n",
    "process1.join()\n",
    "process2.join()\n",
    "print(\"execution time :\", time.time() - par)"
   ]
  },
  {
   "cell_type": "markdown",
   "metadata": {},
   "source": [
    "### Process methods\n",
    "\n",
    "- **start()**: start the process's activity  \n",
    "- **terminate()**: terminate(Linux: `SIGTERM`/ Windows: `TerminateProcess()`) the process  \n",
    "- **join()**: Wait until the process gets terminated\n",
    "- join([_timeout_]): Wait at most _timeout_ seconds for the process to be terminated   "
   ]
  },
  {
   "cell_type": "code",
   "execution_count": null,
   "metadata": {},
   "outputs": [],
   "source": [
    "# terminate() example\n",
    "\n",
    "def func1():\n",
    "    # Count 1~5\n",
    "    for i in range(1,6,1):\n",
    "        print(f\"Number: #{i}\")\n",
    "        time.sleep(0.1)\n",
    "\n",
    "process1 = multiprocessing.Process(target=func1)\n",
    "print(\"Process starting...\")\n",
    "process1.start()\n",
    "\n",
    "time.sleep(0.3)\n",
    "\n",
    "# Force kill process\n",
    "print(\"Process terminating...\")\n",
    "process1.terminate()"
   ]
  },
  {
   "cell_type": "code",
   "execution_count": null,
   "metadata": {},
   "outputs": [],
   "source": [
    "# join() example\n",
    "\n",
    "def func1():\n",
    "    # Count 1~5\n",
    "    for i in range(1,6,1):\n",
    "        print(f\"Number: #{i}\")\n",
    "        time.sleep(0.1)\n",
    "    print(\"Process terminating...\", flush=True)\n",
    "\n",
    "process1 = multiprocessing.Process(target=func1)\n",
    "print(\"Process starting...\")\n",
    "process1.start()\n",
    "\n",
    "# Wait until process terminates\n",
    "print(\"Waiting for process to be terminated...\")\n",
    "process1.join()"
   ]
  },
  {
   "cell_type": "markdown",
   "metadata": {},
   "source": [
    "### IPC practice: Popen"
   ]
  },
  {
   "cell_type": "code",
   "execution_count": null,
   "metadata": {},
   "outputs": [],
   "source": [
    "print(\"Parent process running ... PID:{}\".format(os.getpid()), flush=True)\n",
    "\n",
    "ps_process = subprocess.Popen(['python', 'subprocess_practice.py'], stdout=subprocess.PIPE, stderr=subprocess.PIPE)\n",
    "stdout, stderr = ps_process.communicate()\n",
    "\n",
    "print(stdout.decode())"
   ]
  },
  {
   "cell_type": "markdown",
   "metadata": {},
   "source": [
    "### `pytube` `tqdm` example"
   ]
  },
  {
   "cell_type": "markdown",
   "metadata": {},
   "source": [
    "- UI function"
   ]
  },
  {
   "cell_type": "code",
   "execution_count": null,
   "metadata": {},
   "outputs": [],
   "source": [
    "def draw_ui(message_queue):\n",
    "    print(\"UI process starting ... PID:{}, PPID:{}\".format(os.getpid(), psutil.Process(os.getpid()).ppid()), flush=True)\n",
    "    prev = 0\n",
    "    tqdm_bar = None\n",
    "    while True:\n",
    "        message = message_queue.get()\n",
    "        if message[\"type\"] == \"on_progress\":\n",
    "            if tqdm_bar is None:\n",
    "                tqdm_bar = tqdm(total=100, desc=\"Downloading...\")\n",
    "            cur_rate = message[\"progress_rate\"]\n",
    "            tqdm_bar.update(int(cur_rate-prev))\n",
    "            prev = int(cur_rate)\n",
    "        elif message[\"type\"] == \"on_complete\":\n",
    "            if tqdm_bar is None:\n",
    "                tqdm_bar = tqdm(total=100, desc=\"Downloading...\")\n",
    "            tqdm_bar.update(100-prev)\n",
    "            tqdm_bar.close()\n",
    "            break"
   ]
  },
  {
   "cell_type": "markdown",
   "metadata": {},
   "source": [
    "- Downloading function"
   ]
  },
  {
   "cell_type": "code",
   "execution_count": null,
   "metadata": {},
   "outputs": [],
   "source": [
    "def on_progress(stream, chunk, bytes_remaining, message_queue):\n",
    "    total_size = stream.filesize\n",
    "    bytes_downloaded = total_size - bytes_remaining\n",
    "    progress = (bytes_downloaded / total_size) * 100\n",
    "    message_queue.put({\"type\":\"on_progress\", \"progress_rate\":progress})\n",
    "\n",
    "def on_complete(stream, file_handle, message_queue):\n",
    "    message_queue.put({\"type\":\"on_complete\"})\n",
    "\n",
    "def download(url, message_queue):\n",
    "    print(\"Download process starting ... PID:{}, PPID:{}\".format(os.getpid(), psutil.Process(os.getpid()).ppid()), flush=True)\n",
    "    on_progress_with_MQ = partial(on_progress, message_queue=message_queue)\n",
    "    on_complete_with_MQ = partial(on_complete, message_queue=message_queue)\n",
    "    youtube_clip = YouTube(\n",
    "                        url,\n",
    "                        on_progress_callback=on_progress_with_MQ,\n",
    "                        on_complete_callback=on_complete_with_MQ)\n",
    "    youtube_stream = youtube_clip.streams.filter(\n",
    "                        adaptive=True, \n",
    "                        file_extension='mp4').first()\n",
    "    youtube_stream.download(\"multiprocessing\")"
   ]
  },
  {
   "cell_type": "markdown",
   "metadata": {},
   "source": [
    "- Multiprocessing"
   ]
  },
  {
   "cell_type": "code",
   "execution_count": null,
   "metadata": {},
   "outputs": [],
   "source": [
    "# Charlie Puth - One Call Away [Official Video]\n",
    "url = \"https://www.youtube.com/watch?v=BxuY9FET9Y4\"\n",
    "\n",
    "print(\"main process running ... PID:{}\".format(os.getpid()), flush=True)\n",
    "\n",
    "message_queue = multiprocessing.Queue()\n",
    "\n",
    "process1 = multiprocessing.Process(target=draw_ui, args=(message_queue,))\n",
    "process2 = multiprocessing.Process(target=download, args=(url, message_queue,))\n",
    "\n",
    "process1.start()\n",
    "process2.start()\n",
    "\n",
    "process1.join()\n",
    "process2.join()"
   ]
  },
  {
   "cell_type": "code",
   "execution_count": null,
   "metadata": {},
   "outputs": [],
   "source": []
  }
 ],
 "metadata": {
  "kernelspec": {
   "display_name": "parallelism",
   "language": "python",
   "name": "parallelism"
  },
  "language_info": {
   "codemirror_mode": {
    "name": "ipython",
    "version": 3
   },
   "file_extension": ".py",
   "mimetype": "text/x-python",
   "name": "python",
   "nbconvert_exporter": "python",
   "pygments_lexer": "ipython3",
   "version": "3.8.0"
  },
  "orig_nbformat": 4
 },
 "nbformat": 4,
 "nbformat_minor": 2
}
